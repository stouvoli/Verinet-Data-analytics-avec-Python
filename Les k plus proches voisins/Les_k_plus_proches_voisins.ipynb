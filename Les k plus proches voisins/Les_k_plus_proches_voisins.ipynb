{
  "nbformat": 4,
  "nbformat_minor": 0,
  "metadata": {
    "colab": {
      "provenance": []
    },
    "kernelspec": {
      "name": "python3",
      "display_name": "Python 3"
    },
    "language_info": {
      "name": "python"
    }
  },
  "cells": [
    {
      "cell_type": "code",
      "execution_count": 10,
      "metadata": {
        "id": "WdES3S5O6Fhd"
      },
      "outputs": [],
      "source": [
        "from typing import List\n",
        "from collections import Counter\n",
        "def raw_majority_vote(labels: List[str]) -> str:\n",
        "  votes = Counter(labels)\n",
        "  winner, _ = votes.most_common(1)[0]\n",
        "  return winner\n",
        "assert raw_majority_vote(['a', 'b', 'c', 'b']) == 'b'"
      ]
    },
    {
      "cell_type": "code",
      "source": [
        "def majority_vote(labels: List[str]) -> str:\n",
        "  \"\"\"suppose que les labels sont triés du plus proche au plus éloigné\"\"\"\n",
        "  vote_counts = Counter(labels)\n",
        "  winner, winner_count = vote_counts.most_common(1)[0]\n",
        "  num_winners = len([count for count in vote_counts.values() if count == winner_count])\n",
        "  if num_winners == 1:\n",
        "    # un seul gagnant bien défini ; on le retourne\n",
        "    return winner\n",
        "  else:\n",
        "    # recommencer en éliminant le plus éloigné\n",
        "    return majority_vote(labels[:-1])\n",
        "# égalité ; examiner les quatre premiers, puis 'b'\n",
        "assert majority_vote(['a', 'b', 'c', 'b', 'a']) == 'b'"
      ],
      "metadata": {
        "id": "xo2yk1e4DvzK"
      },
      "execution_count": 11,
      "outputs": []
    },
    {
      "cell_type": "code",
      "source": [
        "from typing import NamedTuple\n",
        "from linear_algebra import Vector, distance\n",
        "class LabeledPoint(NamedTuple):\n",
        "  point: Vector\n",
        "  label: str\n",
        "def knn_classify(k: int,labeled_points: List[LabeledPoint],new_point: Vector) -> str:\n",
        "  # trier les points de données étiquetés du plus proche au plus éloigné\n",
        "  by_distance = sorted(labeled_points, key=lambda lp: distance(lp.point, new_point))\n",
        "  # chercher les labels pour le k le plus proche\n",
        "  k_nearest_labels = [lp.label for lp in by_distance[:k]]\n",
        "  # et les faire voter\n",
        "  return majority_vote(k_nearest_labels)"
      ],
      "metadata": {
        "id": "GhJC8QYGFaGo"
      },
      "execution_count": 12,
      "outputs": []
    },
    {
      "cell_type": "code",
      "source": [
        "import requests\n",
        "data = requests.get(\n",
        "    \"https://archive.ics.uci.edu/ml/machine-learning-databases/iris/iris.data\")\n",
        "with open('iris.dat', 'w') as f:\n",
        "  f.write(data.text)"
      ],
      "metadata": {
        "id": "1oU0EewWIWbZ"
      },
      "execution_count": 13,
      "outputs": []
    },
    {
      "cell_type": "code",
      "source": [
        "from typing import Dict\n",
        "import csv\n",
        "from collections import defaultdict\n",
        "def parse_iris_row(row: List[str]) -> LabeledPoint:\n",
        "  \"\"\"sepal_length, sepal_width, petal_length,\n",
        "  petal_width, class\"\"\"\n",
        "  measurements = [float(value) for value in row[:-1]]\n",
        "  # La classe est, par exemple, \"Iris-virginica\" ;\n",
        "  # nous voulons uniquement \"virginica\".\n",
        "  label = row[-1].split(\"-\")[-1]\n",
        "  return LabeledPoint(measurements, label)\n",
        "with open('iris.dat') as f:\n",
        "  reader = csv.reader(f)\n",
        "  iris_data = [parse_iris_row(row) for row in reader if len(row)>0]\n",
        "# En outre, nous grouperons les points uniquement par espèce/label\n",
        "# de manière à les représenter graphiquement.\n",
        "points_by_species: Dict[str, List[Vector]] = defaultdict(list)\n",
        "for iris in iris_data:\n",
        "  points_by_species[iris.label].append(iris.point)"
      ],
      "metadata": {
        "id": "M6XyCrTvJmFF"
      },
      "execution_count": 14,
      "outputs": []
    },
    {
      "cell_type": "code",
      "source": [
        "points_by_species"
      ],
      "metadata": {
        "colab": {
          "base_uri": "https://localhost:8080/"
        },
        "id": "fxJMc0u1KQ2X",
        "outputId": "bc89ad16-3dc4-4287-bc35-a81bb862886e"
      },
      "execution_count": 15,
      "outputs": [
        {
          "output_type": "execute_result",
          "data": {
            "text/plain": [
              "defaultdict(list,\n",
              "            {'setosa': [[5.1, 3.5, 1.4, 0.2],\n",
              "              [4.9, 3.0, 1.4, 0.2],\n",
              "              [4.7, 3.2, 1.3, 0.2],\n",
              "              [4.6, 3.1, 1.5, 0.2],\n",
              "              [5.0, 3.6, 1.4, 0.2],\n",
              "              [5.4, 3.9, 1.7, 0.4],\n",
              "              [4.6, 3.4, 1.4, 0.3],\n",
              "              [5.0, 3.4, 1.5, 0.2],\n",
              "              [4.4, 2.9, 1.4, 0.2],\n",
              "              [4.9, 3.1, 1.5, 0.1],\n",
              "              [5.4, 3.7, 1.5, 0.2],\n",
              "              [4.8, 3.4, 1.6, 0.2],\n",
              "              [4.8, 3.0, 1.4, 0.1],\n",
              "              [4.3, 3.0, 1.1, 0.1],\n",
              "              [5.8, 4.0, 1.2, 0.2],\n",
              "              [5.7, 4.4, 1.5, 0.4],\n",
              "              [5.4, 3.9, 1.3, 0.4],\n",
              "              [5.1, 3.5, 1.4, 0.3],\n",
              "              [5.7, 3.8, 1.7, 0.3],\n",
              "              [5.1, 3.8, 1.5, 0.3],\n",
              "              [5.4, 3.4, 1.7, 0.2],\n",
              "              [5.1, 3.7, 1.5, 0.4],\n",
              "              [4.6, 3.6, 1.0, 0.2],\n",
              "              [5.1, 3.3, 1.7, 0.5],\n",
              "              [4.8, 3.4, 1.9, 0.2],\n",
              "              [5.0, 3.0, 1.6, 0.2],\n",
              "              [5.0, 3.4, 1.6, 0.4],\n",
              "              [5.2, 3.5, 1.5, 0.2],\n",
              "              [5.2, 3.4, 1.4, 0.2],\n",
              "              [4.7, 3.2, 1.6, 0.2],\n",
              "              [4.8, 3.1, 1.6, 0.2],\n",
              "              [5.4, 3.4, 1.5, 0.4],\n",
              "              [5.2, 4.1, 1.5, 0.1],\n",
              "              [5.5, 4.2, 1.4, 0.2],\n",
              "              [4.9, 3.1, 1.5, 0.1],\n",
              "              [5.0, 3.2, 1.2, 0.2],\n",
              "              [5.5, 3.5, 1.3, 0.2],\n",
              "              [4.9, 3.1, 1.5, 0.1],\n",
              "              [4.4, 3.0, 1.3, 0.2],\n",
              "              [5.1, 3.4, 1.5, 0.2],\n",
              "              [5.0, 3.5, 1.3, 0.3],\n",
              "              [4.5, 2.3, 1.3, 0.3],\n",
              "              [4.4, 3.2, 1.3, 0.2],\n",
              "              [5.0, 3.5, 1.6, 0.6],\n",
              "              [5.1, 3.8, 1.9, 0.4],\n",
              "              [4.8, 3.0, 1.4, 0.3],\n",
              "              [5.1, 3.8, 1.6, 0.2],\n",
              "              [4.6, 3.2, 1.4, 0.2],\n",
              "              [5.3, 3.7, 1.5, 0.2],\n",
              "              [5.0, 3.3, 1.4, 0.2]],\n",
              "             'versicolor': [[7.0, 3.2, 4.7, 1.4],\n",
              "              [6.4, 3.2, 4.5, 1.5],\n",
              "              [6.9, 3.1, 4.9, 1.5],\n",
              "              [5.5, 2.3, 4.0, 1.3],\n",
              "              [6.5, 2.8, 4.6, 1.5],\n",
              "              [5.7, 2.8, 4.5, 1.3],\n",
              "              [6.3, 3.3, 4.7, 1.6],\n",
              "              [4.9, 2.4, 3.3, 1.0],\n",
              "              [6.6, 2.9, 4.6, 1.3],\n",
              "              [5.2, 2.7, 3.9, 1.4],\n",
              "              [5.0, 2.0, 3.5, 1.0],\n",
              "              [5.9, 3.0, 4.2, 1.5],\n",
              "              [6.0, 2.2, 4.0, 1.0],\n",
              "              [6.1, 2.9, 4.7, 1.4],\n",
              "              [5.6, 2.9, 3.6, 1.3],\n",
              "              [6.7, 3.1, 4.4, 1.4],\n",
              "              [5.6, 3.0, 4.5, 1.5],\n",
              "              [5.8, 2.7, 4.1, 1.0],\n",
              "              [6.2, 2.2, 4.5, 1.5],\n",
              "              [5.6, 2.5, 3.9, 1.1],\n",
              "              [5.9, 3.2, 4.8, 1.8],\n",
              "              [6.1, 2.8, 4.0, 1.3],\n",
              "              [6.3, 2.5, 4.9, 1.5],\n",
              "              [6.1, 2.8, 4.7, 1.2],\n",
              "              [6.4, 2.9, 4.3, 1.3],\n",
              "              [6.6, 3.0, 4.4, 1.4],\n",
              "              [6.8, 2.8, 4.8, 1.4],\n",
              "              [6.7, 3.0, 5.0, 1.7],\n",
              "              [6.0, 2.9, 4.5, 1.5],\n",
              "              [5.7, 2.6, 3.5, 1.0],\n",
              "              [5.5, 2.4, 3.8, 1.1],\n",
              "              [5.5, 2.4, 3.7, 1.0],\n",
              "              [5.8, 2.7, 3.9, 1.2],\n",
              "              [6.0, 2.7, 5.1, 1.6],\n",
              "              [5.4, 3.0, 4.5, 1.5],\n",
              "              [6.0, 3.4, 4.5, 1.6],\n",
              "              [6.7, 3.1, 4.7, 1.5],\n",
              "              [6.3, 2.3, 4.4, 1.3],\n",
              "              [5.6, 3.0, 4.1, 1.3],\n",
              "              [5.5, 2.5, 4.0, 1.3],\n",
              "              [5.5, 2.6, 4.4, 1.2],\n",
              "              [6.1, 3.0, 4.6, 1.4],\n",
              "              [5.8, 2.6, 4.0, 1.2],\n",
              "              [5.0, 2.3, 3.3, 1.0],\n",
              "              [5.6, 2.7, 4.2, 1.3],\n",
              "              [5.7, 3.0, 4.2, 1.2],\n",
              "              [5.7, 2.9, 4.2, 1.3],\n",
              "              [6.2, 2.9, 4.3, 1.3],\n",
              "              [5.1, 2.5, 3.0, 1.1],\n",
              "              [5.7, 2.8, 4.1, 1.3]],\n",
              "             'virginica': [[6.3, 3.3, 6.0, 2.5],\n",
              "              [5.8, 2.7, 5.1, 1.9],\n",
              "              [7.1, 3.0, 5.9, 2.1],\n",
              "              [6.3, 2.9, 5.6, 1.8],\n",
              "              [6.5, 3.0, 5.8, 2.2],\n",
              "              [7.6, 3.0, 6.6, 2.1],\n",
              "              [4.9, 2.5, 4.5, 1.7],\n",
              "              [7.3, 2.9, 6.3, 1.8],\n",
              "              [6.7, 2.5, 5.8, 1.8],\n",
              "              [7.2, 3.6, 6.1, 2.5],\n",
              "              [6.5, 3.2, 5.1, 2.0],\n",
              "              [6.4, 2.7, 5.3, 1.9],\n",
              "              [6.8, 3.0, 5.5, 2.1],\n",
              "              [5.7, 2.5, 5.0, 2.0],\n",
              "              [5.8, 2.8, 5.1, 2.4],\n",
              "              [6.4, 3.2, 5.3, 2.3],\n",
              "              [6.5, 3.0, 5.5, 1.8],\n",
              "              [7.7, 3.8, 6.7, 2.2],\n",
              "              [7.7, 2.6, 6.9, 2.3],\n",
              "              [6.0, 2.2, 5.0, 1.5],\n",
              "              [6.9, 3.2, 5.7, 2.3],\n",
              "              [5.6, 2.8, 4.9, 2.0],\n",
              "              [7.7, 2.8, 6.7, 2.0],\n",
              "              [6.3, 2.7, 4.9, 1.8],\n",
              "              [6.7, 3.3, 5.7, 2.1],\n",
              "              [7.2, 3.2, 6.0, 1.8],\n",
              "              [6.2, 2.8, 4.8, 1.8],\n",
              "              [6.1, 3.0, 4.9, 1.8],\n",
              "              [6.4, 2.8, 5.6, 2.1],\n",
              "              [7.2, 3.0, 5.8, 1.6],\n",
              "              [7.4, 2.8, 6.1, 1.9],\n",
              "              [7.9, 3.8, 6.4, 2.0],\n",
              "              [6.4, 2.8, 5.6, 2.2],\n",
              "              [6.3, 2.8, 5.1, 1.5],\n",
              "              [6.1, 2.6, 5.6, 1.4],\n",
              "              [7.7, 3.0, 6.1, 2.3],\n",
              "              [6.3, 3.4, 5.6, 2.4],\n",
              "              [6.4, 3.1, 5.5, 1.8],\n",
              "              [6.0, 3.0, 4.8, 1.8],\n",
              "              [6.9, 3.1, 5.4, 2.1],\n",
              "              [6.7, 3.1, 5.6, 2.4],\n",
              "              [6.9, 3.1, 5.1, 2.3],\n",
              "              [5.8, 2.7, 5.1, 1.9],\n",
              "              [6.8, 3.2, 5.9, 2.3],\n",
              "              [6.7, 3.3, 5.7, 2.5],\n",
              "              [6.7, 3.0, 5.2, 2.3],\n",
              "              [6.3, 2.5, 5.0, 1.9],\n",
              "              [6.5, 3.0, 5.2, 2.0],\n",
              "              [6.2, 3.4, 5.4, 2.3],\n",
              "              [5.9, 3.0, 5.1, 1.8]]})"
            ]
          },
          "metadata": {},
          "execution_count": 15
        }
      ]
    },
    {
      "cell_type": "code",
      "source": [
        "import random\n",
        "from machine_learning import split_data\n",
        "random.seed(12)\n",
        "iris_train, iris_test = split_data(iris_data, 0.70)\n",
        "assert len(iris_train) == 0.7 * 150\n",
        "assert len(iris_test) == 0.3 * 150"
      ],
      "metadata": {
        "id": "4o3EHlwiNCOv"
      },
      "execution_count": 16,
      "outputs": []
    }
  ]
}