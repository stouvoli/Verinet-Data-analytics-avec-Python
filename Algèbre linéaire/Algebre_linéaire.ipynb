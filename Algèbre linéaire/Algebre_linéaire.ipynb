{
  "nbformat": 4,
  "nbformat_minor": 0,
  "metadata": {
    "colab": {
      "provenance": []
    },
    "kernelspec": {
      "name": "python3",
      "display_name": "Python 3"
    },
    "language_info": {
      "name": "python"
    }
  },
  "cells": [
    {
      "cell_type": "code",
      "execution_count": 1,
      "metadata": {
        "id": "-cgRv1a4fS1l"
      },
      "outputs": [],
      "source": [
        "from typing import List\n",
        "Vector = List[float]\n",
        "height_weight_age = [70,  # pouces\n",
        "                     170, # livres\n",
        "                     40]  # années\n"
      ]
    },
    {
      "cell_type": "code",
      "source": [
        "def add(v: Vector, w: Vector) -> Vector:\n",
        "    \"\"\"Additionne les éléments correspondants.\"\"\"\n",
        "    assert len(v) == len(w), \"Les vecteurs doivent être de même longueur\"\n",
        "    return [v_i + w_i for v_i, w_i in zip(v, w)]\n",
        "\n",
        "assert add([1, 2, 3], [4, 5, 6]) == [5, 7, 9]"
      ],
      "metadata": {
        "id": "eEkdsW-igjQ0"
      },
      "execution_count": 2,
      "outputs": []
    },
    {
      "cell_type": "code",
      "source": [
        "def subtract(v: Vector, w: Vector) -> Vector:\n",
        "    \"\"\"Soustrait les éléments correspondants.\"\"\"\n",
        "    assert len(v) == len(w), \"Les vecteurs doivent être de même longueur\"\n",
        "    return [v_i - w_i for v_i, w_i in zip(v, w)]\n",
        "\n",
        "assert subtract([5, 7, 9], [4, 5, 6]) == [1, 2, 3]"
      ],
      "metadata": {
        "id": "K0D3W6PFhgz2"
      },
      "execution_count": 3,
      "outputs": []
    },
    {
      "cell_type": "code",
      "source": [
        "def vector_sum(vectors: List[Vector]) -> Vector:\n",
        "    \"\"\"Fait la somme de tous les éléments correspondants.\"\"\"\n",
        "    # Vérifier que les vecteurs ne sont pas vides.\n",
        "    assert vectors, \"Aucun vecteur fourni!\"\n",
        "\n",
        "    # Vérifier que les vecteurs sont tous de la même taille.\n",
        "    num_elements = len(vectors[0])\n",
        "    assert all(len(v) == num_elements for v in vectors), \"Tailles différentes!\"\n",
        "\n",
        "    # L'élément i du résultat est la somme des éléments i de chaque vecteur.\n",
        "    return [sum(vector[i] for vector in vectors)\n",
        "            for i in range(num_elements)]\n",
        "\n",
        "assert vector_sum([[1, 2], [3, 4], [5, 6], [7, 8]]) == [16, 20]\n"
      ],
      "metadata": {
        "id": "nUrHdAeBiKUA"
      },
      "execution_count": 4,
      "outputs": []
    },
    {
      "cell_type": "code",
      "source": [
        "def scalar_multiply(c: float, v: Vector) -> Vector:\n",
        "    \"\"\"Multiplie chaque élément par c.\"\"\"\n",
        "    return [c * v_i for v_i in v]\n",
        "\n",
        "assert scalar_multiply(2, [1, 2, 3]) == [2, 4, 6]\n"
      ],
      "metadata": {
        "id": "wxF-8JxCi5yx"
      },
      "execution_count": 5,
      "outputs": []
    },
    {
      "cell_type": "code",
      "source": [
        "def vector_mean(vectors: List[Vector]) -> Vector:\n",
        "    \"\"\"Calcule la moyenne élément par élément.\"\"\"\n",
        "    n = len(vectors)\n",
        "    return scalar_multiply(1/n, vector_sum(vectors))\n",
        "\n",
        "assert vector_mean([[1, 2], [3, 4], [5, 6]]) == [3, 4]\n"
      ],
      "metadata": {
        "id": "iQf_GgA7jaik"
      },
      "execution_count": 6,
      "outputs": []
    },
    {
      "cell_type": "code",
      "source": [
        "def dot(v: Vector, w: Vector) -> float:\n",
        "    \"\"\"Calcule v_1 * w_1 + ... + v_n * w_n.\"\"\"\n",
        "    assert len(v) == len(w), \"Les vecteurs doivent être de même longueur\"\n",
        "    return sum(v_i * w_i for v_i, w_i in zip(v, w))\n",
        "\n",
        "assert dot([1, 2, 3], [4, 5, 6]) == 32  # 1 * 4 + 2 * 5 + 3 * 6"
      ],
      "metadata": {
        "id": "tBw0uDHukC0S"
      },
      "execution_count": 7,
      "outputs": []
    },
    {
      "cell_type": "code",
      "source": [
        "def sum_of_squares(v: Vector) -> float:\n",
        "    \"\"\"Retourne v_1 * v_1 + ... + v_n * v_n.\"\"\"\n",
        "    return dot(v, v)\n",
        "\n",
        "assert sum_of_squares([1, 2, 3]) == 14  # 1 * 1 + 2 * 2 + 3 * 3"
      ],
      "metadata": {
        "id": "4g4fTBqUkr8o"
      },
      "execution_count": 8,
      "outputs": []
    },
    {
      "cell_type": "code",
      "source": [
        "import math\n",
        "def magnitude(v: Vector) -> float:\n",
        "    \"\"\"Retourne la magnitude de v.\"\"\"\n",
        "    return math.sqrt(sum_of_squares(v))  # math.sqrt = racine carrée\n",
        "\n",
        "assert magnitude([3, 4]) == 5"
      ],
      "metadata": {
        "id": "N_iXJyOmle5B"
      },
      "execution_count": 9,
      "outputs": []
    },
    {
      "cell_type": "code",
      "source": [
        "# def squared_distance(v: Vector, w: Vector) -> float:\n",
        "#     \"\"\"Calcule (v_1 - w_1) ** 2 + ... + (v_n - w_n) ** 2.\"\"\"\n",
        "#     return sum_of_squares(subtract(v, w))\n",
        "\n",
        "# def distance(v: Vector, w: Vector) -> float:\n",
        "#     \"\"\"Calcule la distance entre v et w.\"\"\"\n",
        "#     return math.sqrt(squared_distance(v, w))\n",
        "\n",
        "\n",
        "# Ou, de manière plus concise :\n",
        "\n",
        "def distance(v: Vector, w: Vector) -> float:\n",
        "    return magnitude(subtract(v, w))"
      ],
      "metadata": {
        "id": "PBG-xyW3l2Xe"
      },
      "execution_count": 10,
      "outputs": []
    },
    {
      "cell_type": "code",
      "source": [
        "from typing import List\n",
        "\n",
        "# Alias de type pour une matrice\n",
        "Matrix = List[List[float]]\n",
        "\n",
        "# Exemple de matrice 2x3 (2 lignes, 3 colonnes)\n",
        "A = [[1, 2, 3],\n",
        "     [4, 5, 6]]"
      ],
      "metadata": {
        "id": "9Ty_eM5pm_ux"
      },
      "execution_count": 11,
      "outputs": []
    },
    {
      "cell_type": "code",
      "source": [
        "from typing import Tuple\n",
        "\n",
        "def shape(A: Matrix) -> Tuple[int, int]:\n",
        "    \"\"\"Retourne (nombre de lignes de A, nombre de colonnes de A).\"\"\"\n",
        "    num_rows = len(A)\n",
        "    num_cols = len(A[0]) if A else 0  # Nombre d'éléments dans la première ligne\n",
        "    return num_rows, num_cols\n",
        "\n",
        "assert shape([[1, 2, 3], [4, 5, 6]]) == (2, 3)  # 2 lignes, 3 colonnes"
      ],
      "metadata": {
        "id": "UVvEwDu-nDe_"
      },
      "execution_count": 13,
      "outputs": []
    },
    {
      "cell_type": "code",
      "source": [
        "def get_column(A: Matrix, j: int) -> Vector:\n",
        "    \"\"\"Retourne la colonne j de la matrice A (en tant que vecteur).\"\"\"\n",
        "    return [A_i[j]  # Élément j de la ligne A_i\n",
        "            for A_i in A]  # Pour chaque ligne A_i"
      ],
      "metadata": {
        "id": "FSxSXwKioGaB"
      },
      "execution_count": 14,
      "outputs": []
    },
    {
      "cell_type": "code",
      "source": [
        "def get_row(A: Matrix, i: int) -> Vector:\n",
        "    \"\"\"Retourne la ligne i de la matrice A (en tant que vecteur).\"\"\"\n",
        "    return A[i]"
      ],
      "metadata": {
        "id": "r9OmZi7Modz_"
      },
      "execution_count": 15,
      "outputs": []
    },
    {
      "cell_type": "code",
      "source": [
        "from typing import Callable\n",
        "\n",
        "def make_matrix(num_rows: int,\n",
        "                num_cols: int,\n",
        "                entry_fn: Callable[[int, int], float]) -> Matrix:\n",
        "    \"\"\"\n",
        "    Retourne une matrice num_rows x num_cols\n",
        "    dont l'élément (i,j) est entry_fn(i, j).\n",
        "    \"\"\"\n",
        "    return [[entry_fn(i, j)  # Étant donné i, créer une liste\n",
        "             for j in range(num_cols)]  # [entry_fn(i, 0), ...]\n",
        "            for i in range(num_rows)]  # Créer une liste pour chaque i\n"
      ],
      "metadata": {
        "id": "nm56pvmho25i"
      },
      "execution_count": 16,
      "outputs": []
    },
    {
      "cell_type": "code",
      "source": [
        "def identity_matrix(n: int) -> Matrix:\n",
        "    \"\"\"Retourne la matrice identité n x n.\"\"\"\n",
        "    return make_matrix(n, n, lambda i, j: 1 if i == j else 0)\n",
        "\n",
        "assert identity_matrix(5) == [[1, 0, 0, 0, 0],\n",
        "                             [0, 1, 0, 0, 0],\n",
        "                             [0, 0, 1, 0, 0],\n",
        "                             [0, 0, 0, 1, 0],\n",
        "                             [0, 0, 0, 0, 1]]"
      ],
      "metadata": {
        "id": "p50hZI4Ep5Pi"
      },
      "execution_count": 17,
      "outputs": []
    }
  ]
}