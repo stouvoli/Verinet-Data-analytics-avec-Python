{
  "nbformat": 4,
  "nbformat_minor": 0,
  "metadata": {
    "colab": {
      "provenance": []
    },
    "kernelspec": {
      "name": "python3",
      "display_name": "Python 3"
    },
    "language_info": {
      "name": "python"
    }
  },
  "cells": [
    {
      "cell_type": "code",
      "execution_count": null,
      "metadata": {
        "colab": {
          "base_uri": "https://localhost:8080/"
        },
        "id": "hucp8Q_fbco2",
        "outputId": "d458970b-ccc2-42b8-8255-f48de0e150fb"
      },
      "outputs": [
        {
          "output_type": "stream",
          "name": "stdout",
          "text": [
            "Cannot divide by zero\n",
            "This will always execute\n"
          ]
        }
      ],
      "source": [
        "try:\n",
        "  print(0/0)\n",
        "except ZeroDivisionError:\n",
        "  print(\"Cannot divide by zero\")\n",
        "else:\n",
        "  print(\"Division successful\")\n",
        "finally:\n",
        "  print(\"This will always execute\")"
      ]
    },
    {
      "cell_type": "markdown",
      "source": [
        "# Liste"
      ],
      "metadata": {
        "id": "usGdjgEAeGPi"
      }
    },
    {
      "cell_type": "code",
      "source": [
        "integer_list = [1, 2, 3]\n",
        "heterogeneous_list = [\"string\", 0.1, True]\n",
        "list_of_lists = [integer_list, heterogeneous_list, []]\n",
        "list_length = len(integer_list)  # égale 3\n",
        "list_sum = sum(integer_list)  # égale 6\n",
        "\n",
        "x = list(range(10))  # est la liste [0, 1, ..., 9]\n",
        "zero = x[0]  # égale 0, les listes sont indexées à partir de 0\n",
        "one = x[1]  # égale 1\n",
        "nine = x[-1]  # égale 9, version 'pythonique' pour le dernier élément\n",
        "eight = x[-2]  # égale 8, version 'pythonique' pour l’avant-dernier élément\n",
        "x[0] = -1  # maintenant x vaut [-1, 1, 2, 3, ..., 9]\n",
        "\n",
        "first_three = x[:3]  # [-1, 1, 2]\n",
        "three_to_end = x[3:]  # [3, 4, ..., 9]\n",
        "one_to_four = x[1:5]  # [1, 2, 3, 4]\n",
        "last_three = x[-3:]  # [7, 8, 9]\n",
        "without_first_and_last = x[1:-1]  # [1, 2, ..., 8]\n",
        "copy_of_x = x[:]  # [-1, 1, 2, ..., 9]\n",
        "\n",
        "x = [1, 2, 3]\n",
        "x.extend([4, 5, 6])  # x vaut maintenant [1,2,3,4,5,6]\n",
        "\n",
        "x = [1, 2, 3]\n",
        "y = x + [4, 5, 6]  # y vaut [1, 2, 3, 4, 5, 6]; x est inchangé\n",
        "\n",
        "x = [1, 2, 3]\n",
        "x.append(0)  # x vaut maintenant [1, 2, 3, 0]\n",
        "y = x[-1]  # égale 0\n",
        "z = len(x)  # égale 4\n",
        "\n",
        "x, y = [1, 2]  # maintenant x vaut 1, y vaut 2\n",
        "_, y = [1, 2]  # maintenant y == 2, peu importe le premier élément\n"
      ],
      "metadata": {
        "id": "YSyaHdOneIdv"
      },
      "execution_count": null,
      "outputs": []
    },
    {
      "cell_type": "code",
      "source": [
        "# Création de tuples\n",
        "my_tuple = (1, 2)\n",
        "other_tuple = 3, 4\n",
        "\n",
        "# Assignations multiples\n",
        "x, y = 1, 2\n",
        "print(x, y)  # Output: 1 2\n",
        "\n",
        "# Échange de valeurs\n",
        "x, y = y, x\n",
        "print(x, y)  # Output: 2 1\n",
        "\n",
        "# Fonction retournant un tuple\n",
        "def sum_and_product(x, y):\n",
        "    return (x + y), (x * y)\n",
        "\n",
        "s, p = sum_and_product(2, 3)\n",
        "print(s, p)  # Output: 5 6\n"
      ],
      "metadata": {
        "id": "2oENdpsnitGo"
      },
      "execution_count": null,
      "outputs": []
    },
    {
      "cell_type": "code",
      "source": [
        "# Création d'un dictionnaire\n",
        "grades = {\"Joel\": 80, \"Tim\": 95}\n",
        "\n",
        "# Accès à une valeur\n",
        "joels_grade = grades[\"Joel\"]\n",
        "print(joels_grade)  # Output: 80\n",
        "\n",
        "# Vérification d'existence\n",
        "joel_has_grade = \"Joel\" in grades\n",
        "print(joel_has_grade)  # Output: True\n",
        "\n",
        "# Valeur par défaut\n",
        "kates_grade = grades.get(\"Kate\", 0)\n",
        "print(kates_grade)  # Output: 0\n",
        "\n",
        "# Modification\n",
        "grades[\"Tim\"] = 99\n",
        "print(grades)  # Output: {'Joel': 80, 'Tim': 99}\n",
        "\n",
        "# Itération\n",
        "for key, value in grades.items():\n",
        "    print(key, value)\n"
      ],
      "metadata": {
        "colab": {
          "base_uri": "https://localhost:8080/"
        },
        "id": "GCsmuxZqkUk0",
        "outputId": "64242995-39e5-4e01-b5a1-eddf09e7953a"
      },
      "execution_count": null,
      "outputs": [
        {
          "output_type": "stream",
          "name": "stdout",
          "text": [
            "80\n",
            "True\n",
            "0\n",
            "{'Joel': 80, 'Tim': 99}\n",
            "Joel 80\n",
            "Tim 99\n"
          ]
        }
      ]
    },
    {
      "cell_type": "code",
      "source": [
        "from collections import defaultdict\n",
        "\n",
        "word_counts = defaultdict(int)\n",
        "for word in document:\n",
        "   word_counts[word] += 1\n"
      ],
      "metadata": {
        "id": "Ji7OyQawleYX"
      },
      "execution_count": null,
      "outputs": []
    },
    {
      "cell_type": "code",
      "source": [
        "from collections import Counter\n",
        "# Compter les mots dans un document\n",
        "words = ['apple', 'banana', 'apple', 'orange', 'banana', 'apple']\n",
        "word_counts = Counter(words)\n",
        "\n",
        "# Afficher les 3 mots les plus fréquents\n",
        "for word, count in word_counts.most_common(3):\n",
        "    print(word, count)"
      ],
      "metadata": {
        "colab": {
          "base_uri": "https://localhost:8080/"
        },
        "id": "4-mkOXLCtbK3",
        "outputId": "eee663ef-4bc9-4618-fd08-a6d43e98099b"
      },
      "execution_count": null,
      "outputs": [
        {
          "output_type": "stream",
          "name": "stdout",
          "text": [
            "apple 3\n",
            "banana 2\n",
            "orange 1\n"
          ]
        }
      ]
    },
    {
      "cell_type": "code",
      "source": [
        "s = set()\n",
        "s.add(1)\n",
        "s.add(2)\n",
        "# Vérification d'appartenance\n",
        "print(2 in s)  # Output: True\n",
        "# Suppression des doublons\n",
        "item_list = [1, 2, 3, 1, 2, 3]\n",
        "item_set = set(item_list)\n",
        "distinct_item_list = list(item_set)\n",
        "print(distinct_item_list)  # Output: [1, 2, 3]\n"
      ],
      "metadata": {
        "colab": {
          "base_uri": "https://localhost:8080/"
        },
        "id": "lsBEHsJ-uUJL",
        "outputId": "cf86e4af-398c-4b77-a815-6e576337b44e"
      },
      "execution_count": null,
      "outputs": [
        {
          "output_type": "stream",
          "name": "stdout",
          "text": [
            "True\n",
            "[1, 2, 3]\n"
          ]
        }
      ]
    },
    {
      "cell_type": "code",
      "source": [
        "all([True, 1, { 3 }]) # Vrai\n",
        "all([True, 1, {}]) # Faux, {} est plutôt faux\n",
        "any([True, 1, {}]) # Vrai, True est plutôt vrai\n",
        "all([]) # Vrai, pas d’éléments plutôt faux dans la liste\n",
        "any([]) # Faux, pas d’éléments plutôt vrais dans la liste\n",
        "\n"
      ],
      "metadata": {
        "colab": {
          "base_uri": "https://localhost:8080/"
        },
        "id": "l9_WtKcsvlcO",
        "outputId": "ad48f6f7-08fc-47a2-9a38-84ca9eaa604b"
      },
      "execution_count": null,
      "outputs": [
        {
          "output_type": "execute_result",
          "data": {
            "text/plain": [
              "False"
            ]
          },
          "metadata": {},
          "execution_count": 6
        }
      ]
    },
    {
      "cell_type": "code",
      "source": [
        "10/5"
      ],
      "metadata": {
        "colab": {
          "base_uri": "https://localhost:8080/"
        },
        "id": "ecyIinYEwElk",
        "outputId": "e5134a62-e737-4536-b9a8-17f8738c5a06"
      },
      "execution_count": null,
      "outputs": [
        {
          "output_type": "execute_result",
          "data": {
            "text/plain": [
              "2.0"
            ]
          },
          "metadata": {},
          "execution_count": 7
        }
      ]
    },
    {
      "cell_type": "code",
      "source": [
        "10//5"
      ],
      "metadata": {
        "colab": {
          "base_uri": "https://localhost:8080/"
        },
        "id": "5Fv1b_eHwJnb",
        "outputId": "47764f06-97fb-4f8d-8dd6-646592af145d"
      },
      "execution_count": null,
      "outputs": [
        {
          "output_type": "execute_result",
          "data": {
            "text/plain": [
              "2"
            ]
          },
          "metadata": {},
          "execution_count": 8
        }
      ]
    },
    {
      "cell_type": "code",
      "source": [
        "1 == 2"
      ],
      "metadata": {
        "colab": {
          "base_uri": "https://localhost:8080/"
        },
        "id": "eDauDe1YxWFH",
        "outputId": "a4eb6992-52f5-41ed-ee0b-c267ab7aff03"
      },
      "execution_count": null,
      "outputs": [
        {
          "output_type": "execute_result",
          "data": {
            "text/plain": [
              "False"
            ]
          },
          "metadata": {},
          "execution_count": 10
        }
      ]
    },
    {
      "cell_type": "code",
      "source": [
        "sorted([-4,1,-2,3], key=abs, reverse=True)\n"
      ],
      "metadata": {
        "colab": {
          "base_uri": "https://localhost:8080/"
        },
        "id": "3dzspPqvyNUD",
        "outputId": "791168b0-8dad-42cb-bdbe-a4871a57726a"
      },
      "execution_count": null,
      "outputs": [
        {
          "output_type": "execute_result",
          "data": {
            "text/plain": [
              "[-4, 3, -2, 1]"
            ]
          },
          "metadata": {},
          "execution_count": 11
        }
      ]
    },
    {
      "cell_type": "code",
      "source": [
        "pairs = [(x, y)\n",
        "    for x in range(10)\n",
        "    for y in range(10)] # 100 paires (0,0) (0,1) ... (9,9)\n"
      ],
      "metadata": {
        "id": "iwV0S674ziZF"
      },
      "execution_count": null,
      "outputs": []
    },
    {
      "cell_type": "code",
      "source": [
        "pairs"
      ],
      "metadata": {
        "collapsed": true,
        "colab": {
          "base_uri": "https://localhost:8080/"
        },
        "id": "O3ejbdGezmvr",
        "outputId": "1c26438a-1d7f-4034-c7e6-67b0b81ec88b"
      },
      "execution_count": null,
      "outputs": [
        {
          "output_type": "execute_result",
          "data": {
            "text/plain": [
              "[(0, 0),\n",
              " (0, 1),\n",
              " (0, 2),\n",
              " (0, 3),\n",
              " (0, 4),\n",
              " (0, 5),\n",
              " (0, 6),\n",
              " (0, 7),\n",
              " (0, 8),\n",
              " (0, 9),\n",
              " (1, 0),\n",
              " (1, 1),\n",
              " (1, 2),\n",
              " (1, 3),\n",
              " (1, 4),\n",
              " (1, 5),\n",
              " (1, 6),\n",
              " (1, 7),\n",
              " (1, 8),\n",
              " (1, 9),\n",
              " (2, 0),\n",
              " (2, 1),\n",
              " (2, 2),\n",
              " (2, 3),\n",
              " (2, 4),\n",
              " (2, 5),\n",
              " (2, 6),\n",
              " (2, 7),\n",
              " (2, 8),\n",
              " (2, 9),\n",
              " (3, 0),\n",
              " (3, 1),\n",
              " (3, 2),\n",
              " (3, 3),\n",
              " (3, 4),\n",
              " (3, 5),\n",
              " (3, 6),\n",
              " (3, 7),\n",
              " (3, 8),\n",
              " (3, 9),\n",
              " (4, 0),\n",
              " (4, 1),\n",
              " (4, 2),\n",
              " (4, 3),\n",
              " (4, 4),\n",
              " (4, 5),\n",
              " (4, 6),\n",
              " (4, 7),\n",
              " (4, 8),\n",
              " (4, 9),\n",
              " (5, 0),\n",
              " (5, 1),\n",
              " (5, 2),\n",
              " (5, 3),\n",
              " (5, 4),\n",
              " (5, 5),\n",
              " (5, 6),\n",
              " (5, 7),\n",
              " (5, 8),\n",
              " (5, 9),\n",
              " (6, 0),\n",
              " (6, 1),\n",
              " (6, 2),\n",
              " (6, 3),\n",
              " (6, 4),\n",
              " (6, 5),\n",
              " (6, 6),\n",
              " (6, 7),\n",
              " (6, 8),\n",
              " (6, 9),\n",
              " (7, 0),\n",
              " (7, 1),\n",
              " (7, 2),\n",
              " (7, 3),\n",
              " (7, 4),\n",
              " (7, 5),\n",
              " (7, 6),\n",
              " (7, 7),\n",
              " (7, 8),\n",
              " (7, 9),\n",
              " (8, 0),\n",
              " (8, 1),\n",
              " (8, 2),\n",
              " (8, 3),\n",
              " (8, 4),\n",
              " (8, 5),\n",
              " (8, 6),\n",
              " (8, 7),\n",
              " (8, 8),\n",
              " (8, 9),\n",
              " (9, 0),\n",
              " (9, 1),\n",
              " (9, 2),\n",
              " (9, 3),\n",
              " (9, 4),\n",
              " (9, 5),\n",
              " (9, 6),\n",
              " (9, 7),\n",
              " (9, 8),\n",
              " (9, 9)]"
            ]
          },
          "metadata": {},
          "execution_count": 13
        }
      ]
    },
    {
      "cell_type": "code",
      "source": [
        "def my_range(x):\n",
        "    i = 0\n",
        "    while i < x:\n",
        "        yield i\n",
        "        i += 1\n"
      ],
      "metadata": {
        "id": "EJ8HC5Dq0rdu"
      },
      "execution_count": null,
      "outputs": []
    },
    {
      "cell_type": "code",
      "source": [
        "for i in my_range(10):\n",
        "    print(i)"
      ],
      "metadata": {
        "colab": {
          "base_uri": "https://localhost:8080/"
        },
        "id": "B75-Zm5I0uM0",
        "outputId": "2f0448b8-5fc9-4619-f94d-00c766758b3a"
      },
      "execution_count": null,
      "outputs": [
        {
          "output_type": "stream",
          "name": "stdout",
          "text": [
            "0\n",
            "1\n",
            "2\n",
            "3\n",
            "4\n",
            "5\n",
            "6\n",
            "7\n",
            "8\n",
            "9\n"
          ]
        }
      ]
    },
    {
      "cell_type": "code",
      "source": [
        "lessons = [\"Why Python Programming\", \"Data Types and Operators\", \"Control Flow\", \"Functions\", \"Scripting\"]\n",
        "\n",
        "def my_enumerate(iterable, start=0):\n",
        "    # TODO Implement your generator function here\n",
        "    for element in iterable:\n",
        "        yield start, element\n",
        "        start += 1\n",
        "\n",
        "\n",
        "for i, lesson in my_enumerate(lessons, 5):\n",
        "    print(\"Lesson {}: {}\".format(i, lesson))\n"
      ],
      "metadata": {
        "colab": {
          "base_uri": "https://localhost:8080/"
        },
        "id": "oywzOprU21rb",
        "outputId": "3e3ba6be-8c03-4aa6-a346-58befaf6a30a"
      },
      "execution_count": null,
      "outputs": [
        {
          "output_type": "stream",
          "name": "stdout",
          "text": [
            "Lesson 5: Why Python Programming\n",
            "Lesson 6: Data Types and Operators\n",
            "Lesson 7: Control Flow\n",
            "Lesson 8: Functions\n",
            "Lesson 9: Scripting\n"
          ]
        }
      ]
    },
    {
      "cell_type": "code",
      "source": [
        "def chunker(iterable, size):\n",
        "    # Implement function here\n",
        "    for i in range(0, len(iterable), size):\n",
        "        yield iterable[i:i + size]\n",
        "\n",
        "\n",
        "\n",
        "for chunk in chunker(range(25), 4):\n",
        "    print(list(chunk))"
      ],
      "metadata": {
        "colab": {
          "base_uri": "https://localhost:8080/"
        },
        "id": "ZkqKL_7m5f1w",
        "outputId": "b9921a18-7b7b-420e-c51e-fde5ee52353d"
      },
      "execution_count": null,
      "outputs": [
        {
          "output_type": "stream",
          "name": "stdout",
          "text": [
            "[0, 1, 2, 3]\n",
            "[4, 5, 6, 7]\n",
            "[8, 9, 10, 11]\n",
            "[12, 13, 14, 15]\n",
            "[16, 17, 18, 19]\n",
            "[20, 21, 22, 23]\n",
            "[24]\n"
          ]
        }
      ]
    },
    {
      "cell_type": "code",
      "source": [
        "import random\n",
        "\n",
        "# Générer un nombre aléatoire entre 0 et 1\n",
        "nombre_aleatoire = random.random()\n",
        "print(nombre_aleatoire)\n",
        "\n",
        "# Générer un entier aléatoire entre 1 et 10 (inclus)\n",
        "entier_aleatoire = random.randint(1, 10)\n",
        "print(entier_aleatoire)\n",
        "\n",
        "# Mélanger une liste\n",
        "liste = [1, 2, 3, 4, 5]\n",
        "random.shuffle(liste)\n",
        "print(liste)\n",
        "\n",
        "# Choisir un élément aléatoirement dans une liste\n",
        "liste = [1, 2, 3, 4, 5]\n",
        "element_choisi = random.choice(liste)\n",
        "print(element_choisi)"
      ],
      "metadata": {
        "colab": {
          "base_uri": "https://localhost:8080/"
        },
        "id": "bIYY8G1O9Gbh",
        "outputId": "f6ad9572-17c9-418b-ff9a-d1d1a4206059"
      },
      "execution_count": null,
      "outputs": [
        {
          "output_type": "stream",
          "name": "stdout",
          "text": [
            "0.2426777949126201\n",
            "3\n",
            "[2, 3, 5, 1, 4]\n",
            "4\n"
          ]
        }
      ]
    },
    {
      "cell_type": "code",
      "source": [
        "import re\n",
        "\n",
        "# Vérification 1: 'cat' ne commence pas par 'a'\n",
        "check1 = not re.match(\"a\", \"cat\")\n",
        "\n",
        "# Vérification 2: 'cat' possède un 'a'\n",
        "check2 = re.search(\"a\", \"cat\")\n",
        "\n",
        "# Vérification 3: 'dog' ne contient pas de 'c'\n",
        "check3 = not re.search(\"c\", \"dog\")\n",
        "\n",
        "# Vérification 4: 'carbs' se coupe en 'a' ou 'b' en ['c', 'r', 's']\n",
        "check4 = 3 == len(re.split(\"[ab]\", \"carbs\"))\n",
        "\n",
        "# Vérification 5: remplace les chiffres par des tirets dans \"R2D2\"\n",
        "check5 = \"R-D-\" == re.sub(\"[0-9]\", \"-\", \"R2D2\")\n",
        "\n",
        "# Afficher si toutes les vérifications sont vraies\n",
        "print(check1 and check2 and check3 and check4 and check5)"
      ],
      "metadata": {
        "colab": {
          "base_uri": "https://localhost:8080/"
        },
        "id": "bLUW9115-GD6",
        "outputId": "68af0f3c-e6d7-47b1-87e5-0e2038702f38"
      },
      "execution_count": null,
      "outputs": [
        {
          "output_type": "stream",
          "name": "stdout",
          "text": [
            "True\n"
          ]
        }
      ]
    },
    {
      "cell_type": "code",
      "source": [
        "re.split(\"[ab]\", \"carbs\")"
      ],
      "metadata": {
        "colab": {
          "base_uri": "https://localhost:8080/"
        },
        "id": "Tm6fg6ln-6FO",
        "outputId": "0f92a90d-16fc-4d58-9e24-b9e04dcc5e1f"
      },
      "execution_count": null,
      "outputs": [
        {
          "output_type": "execute_result",
          "data": {
            "text/plain": [
              "['c', 'r', 's']"
            ]
          },
          "metadata": {},
          "execution_count": 23
        }
      ]
    },
    {
      "cell_type": "code",
      "source": [
        "# Calculer le carré de chaque nombre dans une liste\n",
        "carres = map(lambda x: x**2, [1, 2, 3, 4, 5])\n",
        "\n",
        "# Filtrer les nombres pairs d'une liste\n",
        "pairs = filter(lambda x: x % 2 == 0, [1, 2, 3, 4, 5])\n",
        "\n",
        "# Créer une liste des nombres impairs inférieurs à 10\n",
        "impairs = [x for x in range(10) if x % 2 != 0]\n",
        "\n"
      ],
      "metadata": {
        "id": "hWW07eBVAdhH"
      },
      "execution_count": null,
      "outputs": []
    },
    {
      "cell_type": "code",
      "source": [
        "pairs"
      ],
      "metadata": {
        "colab": {
          "base_uri": "https://localhost:8080/"
        },
        "id": "gjhf7IxHAlsJ",
        "outputId": "55f4b740-1f19-4443-e2c6-5cec1063c914"
      },
      "execution_count": null,
      "outputs": [
        {
          "output_type": "execute_result",
          "data": {
            "text/plain": [
              "<filter at 0x7c2715c2f220>"
            ]
          },
          "metadata": {},
          "execution_count": 34
        }
      ]
    },
    {
      "cell_type": "code",
      "source": [
        "list(pairs)"
      ],
      "metadata": {
        "colab": {
          "base_uri": "https://localhost:8080/"
        },
        "id": "9PChWAyXBejy",
        "outputId": "03142131-b9b2-4f02-9352-42b227d62482"
      },
      "execution_count": null,
      "outputs": [
        {
          "output_type": "execute_result",
          "data": {
            "text/plain": [
              "[2, 4]"
            ]
          },
          "metadata": {},
          "execution_count": 35
        }
      ]
    },
    {
      "cell_type": "code",
      "source": [
        "for i in pairs:\n",
        "  print(i)"
      ],
      "metadata": {
        "id": "EKjjuLYWBgyI"
      },
      "execution_count": null,
      "outputs": []
    },
    {
      "cell_type": "code",
      "source": [
        "liste1 = [1, 2, 3]\n",
        "liste2 = ['a', 'b', 'c']\n",
        "\n",
        "for x, y in zip(liste1, liste2):\n",
        "    print(x, y)"
      ],
      "metadata": {
        "colab": {
          "base_uri": "https://localhost:8080/"
        },
        "id": "Y1Cy8X9nCYTT",
        "outputId": "f1b6cdda-cc0b-4946-b3a5-10adc8e06c5f"
      },
      "execution_count": null,
      "outputs": [
        {
          "output_type": "stream",
          "name": "stdout",
          "text": [
            "1 a\n",
            "2 b\n",
            "3 c\n"
          ]
        }
      ]
    },
    {
      "cell_type": "code",
      "source": [
        "def somme(x, y, z):\n",
        "    return x + y + z\n",
        "\n",
        "liste = [1, 2, 3]\n",
        "resultat = somme(*liste)  # Équivalent à somme(1, 2, 3)\n",
        "print(resultat)  # Affiche 6"
      ],
      "metadata": {
        "colab": {
          "base_uri": "https://localhost:8080/"
        },
        "id": "gyKLeL8CDyal",
        "outputId": "a43f3518-3a98-49fc-9c05-c7cb37605740"
      },
      "execution_count": null,
      "outputs": [
        {
          "output_type": "stream",
          "name": "stdout",
          "text": [
            "6\n"
          ]
        }
      ]
    },
    {
      "cell_type": "code",
      "source": [
        "paires = [(1, 'a'), (2, 'b'), (3, 'c')]\n",
        "liste1, liste2 = zip(*paires)\n",
        "print(liste1)  # Affiche (1, 2, 3)\n",
        "print(liste2)  # Affiche ('a', 'b', 'c')"
      ],
      "metadata": {
        "id": "34fIbSXEElqK"
      },
      "execution_count": null,
      "outputs": []
    },
    {
      "cell_type": "code",
      "source": [
        "def magic(*args, **kwargs):\n",
        "    print(\"args sans nom :\", args)\n",
        "    print(\"args mots-clés :\", kwargs)\n",
        "\n",
        "magic(1, 2, key=\"word\", key2=\"word2\")\n",
        "# affiche\n",
        "# args sans nom : (1, 2)\n",
        "# args mots-clés : {'key2': 'word2', 'key': 'word'}"
      ],
      "metadata": {
        "colab": {
          "base_uri": "https://localhost:8080/"
        },
        "id": "W7WtgV9CFqoA",
        "outputId": "743b4aac-48fc-45bc-da0b-1d8909b219f6"
      },
      "execution_count": null,
      "outputs": [
        {
          "output_type": "stream",
          "name": "stdout",
          "text": [
            "args sans nom : (1, 2)\n",
            "args mots-clés : {'key': 'word', 'key2': 'word2'}\n"
          ]
        }
      ]
    },
    {
      "cell_type": "code",
      "source": [
        "# Calculer le carré de chaque nombre dans une liste\n",
        "carres = map(lambda x: x**2, [1, 2, 3, 4, 5])\n",
        "\n",
        "# Filtrer les nombres pairs d'une liste\n",
        "pairs = filter(lambda x: x % 2 == 0, [1, 2, 3, 4, 5])"
      ],
      "metadata": {
        "id": "-k_OiilEOvmZ"
      },
      "execution_count": null,
      "outputs": []
    },
    {
      "cell_type": "code",
      "source": [
        "for i in pairs:\n",
        "  print(i)"
      ],
      "metadata": {
        "id": "698EWVImOw3m"
      },
      "execution_count": null,
      "outputs": []
    },
    {
      "cell_type": "code",
      "source": [
        "for j in carres:\n",
        "  print(j)"
      ],
      "metadata": {
        "id": "SianFmj6PI4-"
      },
      "execution_count": null,
      "outputs": []
    }
  ]
}